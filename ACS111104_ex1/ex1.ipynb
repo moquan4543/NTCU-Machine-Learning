{
 "cells": [
  {
   "cell_type": "markdown",
   "metadata": {
    "id": "hs8Bl6TFipjd"
   },
   "source": [
    "**Import necessary package**"
   ]
  },
  {
   "cell_type": "code",
   "execution_count": 5,
   "metadata": {
    "executionInfo": {
     "elapsed": 9,
     "status": "ok",
     "timestamp": 1748492879125,
     "user": {
      "displayName": "黃冠鈞",
      "userId": "03680101765032085214"
     },
     "user_tz": -480
    },
    "id": "KsuhHHYZQ289"
   },
   "outputs": [],
   "source": [
    "import numpy as np\n",
    "import pandas as pd\n",
    "from sklearn.model_selection import train_test_split\n",
    "from sklearn.preprocessing import StandardScaler\n",
    "from sklearn.ensemble import RandomForestClassifier\n",
    "from sklearn.metrics import classification_report\n",
    "from sklearn.cluster import KMeans\n",
    "from sklearn.metrics import silhouette_score, accuracy_score, precision_score, recall_score, f1_score, roc_auc_score, confusion_matrix\n",
    "import kagglehub\n",
    "\n",
    "#general setting do not change TEST_SIZE\n",
    "RANDOM_SEED = 42\n",
    "TEST_SIZE = 0.3"
   ]
  },
  {
   "cell_type": "markdown",
   "metadata": {},
   "source": [
    "**load dataset & prepare data**"
   ]
  },
  {
   "cell_type": "code",
   "execution_count": 6,
   "metadata": {
    "executionInfo": {
     "elapsed": 6786,
     "status": "ok",
     "timestamp": 1748492887571,
     "user": {
      "displayName": "黃冠鈞",
      "userId": "03680101765032085214"
     },
     "user_tz": -480
    },
    "id": "29aoWqsri3ZH"
   },
   "outputs": [],
   "source": [
    "#load dataset\n",
    "path = kagglehub.dataset_download(\"mlg-ulb/creditcardfraud\")\n",
    "data = pd.read_csv(f\"{path}/creditcard.csv\")\n",
    "data['Class'] = data['Class'].astype(int)\n",
    "\n",
    "#prepare data\n",
    "data = data.drop(['Time'], axis=1)\n",
    "data['Amount'] = StandardScaler().fit_transform(data['Amount'].values.reshape(-1, 1))"
   ]
  },
  {
   "cell_type": "markdown",
   "metadata": {
    "id": "ZiZwvmokjWy1"
   },
   "source": [
    "**Fraud/Non-Fraud Transactions**"
   ]
  },
  {
   "cell_type": "code",
   "execution_count": 7,
   "metadata": {
    "colab": {
     "base_uri": "https://localhost:8080/"
    },
    "executionInfo": {
     "elapsed": 44,
     "status": "ok",
     "timestamp": 1748492889776,
     "user": {
      "displayName": "黃冠鈞",
      "userId": "03680101765032085214"
     },
     "user_tz": -480
    },
    "id": "2uOhv23cjVRv",
    "outputId": "dc6f9b18-cf1f-4f7b-a0e6-dcb7dd6cd2bf"
   },
   "outputs": [
    {
     "name": "stdout",
     "output_type": "stream",
     "text": [
      "Fraudulent:492, non-fraudulent:284315\n",
      "the positive class (fraud) percentage: 492/284807 (0.173%)\n"
     ]
    }
   ],
   "source": [
    "fraud = data[data['Class'] == 1]\n",
    "nonfraud = data[data['Class'] == 0]\n",
    "print(f'Fraudulent:{len(fraud)}, non-fraudulent:{len(nonfraud)}')\n",
    "print(f'the positive class (fraud) percentage: {len(fraud)}/{len(fraud) + len(nonfraud)} ({len(fraud)/(len(fraud) + len(nonfraud))*100:.3f}%)')"
   ]
  },
  {
   "cell_type": "markdown",
   "metadata": {
    "id": "HaYp1TxRj5cL"
   },
   "source": [
    "**非監督式學習(KMeans)**"
   ]
  },
  {
   "cell_type": "code",
   "execution_count": 25,
   "metadata": {
    "executionInfo": {
     "elapsed": 903,
     "status": "ok",
     "timestamp": 1748493343530,
     "user": {
      "displayName": "黃冠鈞",
      "userId": "03680101765032085214"
     },
     "user_tz": -480
    },
    "id": "eqDjDITRd3AB"
   },
   "outputs": [],
   "source": [
    "#Extract features and labels\n",
    "X = np.asarray(data.drop(columns=['Class']))\n",
    "y = np.asarray(data['Class'])\n",
    "\n",
    "#Split the DataSet into TrainingSets (with stratification)\n",
    "x_train, x_test, y_train, y_test = train_test_split(\n",
    "    X, y, test_size=TEST_SIZE, random_state=RANDOM_SEED, stratify=y\n",
    ")\n",
    "\n",
    "scaler = StandardScaler()\n",
    "x_train = scaler.fit_transform(x_train)\n",
    "x_test = scaler.transform(x_test)\n",
    "\n",
    "#Select a small sample of normal (non-fraud) data for unsupervised training\n",
    "n_x_train = x_train[y_train == 0]\n",
    "n_x_train = n_x_train[:1000]\n",
    "\n",
    "scores = []\n",
    "for k in range(2, 5):\n",
    "  kmeans = KMeans(n_clusters=k, init='k-means++', random_state=RANDOM_SEED)\n",
    "  kmeans.fit(n_x_train)\n",
    "  score = silhouette_score(n_x_train, kmeans.labels_)\n",
    "  scores.append(score)\n",
    "\n",
    "optimal_k = np.argmax(scores) + 2\n",
    "kmeans = KMeans(n_clusters=k, init='k-means++', random_state=RANDOM_SEED)\n",
    "kmeans.fit(n_x_train)\n",
    "y_pred_test = kmeans.predict(x_test)\n",
    "def align_labels(y_true, y_pred, n_clusters):\n",
    "  labels = np.zeros_like(y_pred)\n",
    "  for i in range(n_clusters):\n",
    "    mask = (y_pred == i)\n",
    "    if np.sum(mask) > 0:\n",
    "      labels[mask] = np.bincount(y_true[mask]).argmax()\n",
    "    else:\n",
    "      labels[mask] = 0 #Default to normal class\n",
    "  return labels\n",
    "\n",
    "y_pred_aligned = align_labels(y_test, y_pred_test, optimal_k)"
   ]
  },
  {
   "cell_type": "markdown",
   "metadata": {
    "id": "2u0a1EhBkBdl"
   },
   "source": [
    "**result of 非監督式學習(KMeans)**"
   ]
  },
  {
   "cell_type": "code",
   "execution_count": 26,
   "metadata": {
    "colab": {
     "base_uri": "https://localhost:8080/"
    },
    "executionInfo": {
     "elapsed": 53,
     "status": "ok",
     "timestamp": 1748493346045,
     "user": {
      "displayName": "黃冠鈞",
      "userId": "03680101765032085214"
     },
     "user_tz": -480
    },
    "id": "kNgEL8pfkJx7",
    "outputId": "7c945e57-b57f-43bd-d425-824e661ee787"
   },
   "outputs": [
    {
     "name": "stdout",
     "output_type": "stream",
     "text": [
      "\n",
      "KMeans (Unsupervised) Evaluation:\n",
      "=============================================\n",
      "        Accuracy: 0.9987242957293166\n",
      " Precision Score: 0.782608695652174\n",
      "    Recall Score: 0.36486486486486486\n",
      "        F1 Score: 0.4976958525345622\n",
      "\n",
      "Classification Report:\n",
      "              precision    recall  f1-score   support\n",
      "\n",
      "           0       1.00      1.00      1.00     85295\n",
      "           1       0.78      0.36      0.50       148\n",
      "\n",
      "    accuracy                           1.00     85443\n",
      "   macro avg       0.89      0.68      0.75     85443\n",
      "weighted avg       1.00      1.00      1.00     85443\n",
      "\n"
     ]
    }
   ],
   "source": [
    "def evaluation(y_true, y_pred, model_name=\"Model\"):\n",
    "  accuracy = accuracy_score(y_true, y_pred)\n",
    "  precision = precision_score(y_true, y_pred, zero_division=0)\n",
    "  recall = recall_score(y_true, y_pred)\n",
    "  f1 = f1_score(y_true, y_pred)\n",
    "\n",
    "  print(f'\\n{model_name} Evaluation:')\n",
    "  print(\"===\" * 15)\n",
    "  print(f'        Accuracy:', accuracy)\n",
    "  print(f' Precision Score:', precision)\n",
    "  print(f'    Recall Score:', recall)\n",
    "  print(f'        F1 Score:', f1)\n",
    "  print(f\"\\nClassification Report:\")\n",
    "  print(classification_report(y_true, y_pred))\n",
    "\n",
    "evaluation(y_test, y_pred_aligned, model_name=\"KMeans (Unsupervised)\")"
   ]
  }
 ],
 "metadata": {
  "colab": {
   "authorship_tag": "ABX9TyNRS4+P4dX/HXO7yOxmZgbA",
   "provenance": []
  },
  "kernelspec": {
   "display_name": "Python 3",
   "name": "python3"
  },
  "language_info": {
   "name": "python"
  }
 },
 "nbformat": 4,
 "nbformat_minor": 0
}
